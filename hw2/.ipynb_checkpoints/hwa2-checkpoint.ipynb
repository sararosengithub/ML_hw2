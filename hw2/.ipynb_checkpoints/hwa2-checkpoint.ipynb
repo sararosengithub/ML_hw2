{
 "cells": [
  {
   "cell_type": "markdown",
   "metadata": {},
   "source": [
    "## Student #1 ID:"
   ]
  },
  {
   "cell_type": "markdown",
   "metadata": {},
   "source": [
    "## Student #2 ID:"
   ]
  },
  {
   "cell_type": "markdown",
   "metadata": {
    "nbgrader": {
     "grade": false,
     "grade_id": "cell-6bd0516e7cb654f5",
     "locked": true,
     "schema_version": 1,
     "solution": false
    }
   },
   "source": [
    "# Exercise 2: Decision Trees\n",
    "\n",
    "In this assignment you will implement a Decision Tree algorithm as learned in class.\n",
    "\n",
    "## Read the following instructions carefully:\n",
    "\n",
    "1. This jupyter notebook contains all the step by step instructions needed for this exercise.\n",
    "1. Write **efficient vectorized** code whenever possible. Some calculations in this exercise take several minutes when implemented efficiently, and might take much longer otherwise. Unnecessary loops will result in point deduction.\n",
    "1. You are responsible for the correctness of your code and should add as many tests as you see fit. Those tests will not be graded nor checked.\n",
    "1. You are free to add code and markdown cells as you see fit.\n",
    "1. Write your functions in this jupyter notebook only. Do not create external python modules and import from them.\n",
    "1. You are allowed to use functions and methods from the [Python Standard Library](https://docs.python.org/3/library/) and [numpy](https://www.numpy.org/devdocs/reference/) only, unless otherwise mentioned.\n",
    "1. Your code must run without errors. During the environment setup, you were given a specific version of Python of install (`Python >= 3.6, numpy >= 1.14`). \n",
    "1. Answers to qualitative questions should be written in **markdown cells (with $\\LaTeX$ support)**.\n",
    "1. Submit this jupyter notebook only using your ID as a filename. No not use ZIP or RAR. For example, your submission should look like this: `123456789.ipynb` if you worked by yourself or `123456789_987654321.ipynb` if you worked in pairs.\n",
    "\n",
    "## In this exercise you will perform the following:\n",
    "1. Practice OOP in python.\n",
    "2. Implement two impurity measures: Gini and Entropy.\n",
    "3. Construct a decision tree algorithm.\n",
    "4. Prune the tree to achieve better results.\n",
    "5. Visualize your results."
   ]
  },
  {
   "cell_type": "code",
   "execution_count": 61,
   "metadata": {
    "nbgrader": {
     "grade": false,
     "grade_id": "cell-ed9fe7b1026e33cb",
     "locked": true,
     "schema_version": 1,
     "solution": false
    }
   },
   "outputs": [
    {
     "name": "stdout",
     "output_type": "stream",
     "text": [
      "The autoreload extension is already loaded. To reload it, use:\n",
      "  %reload_ext autoreload\n"
     ]
    }
   ],
   "source": [
    "import numpy as np\n",
    "import pandas as pd\n",
    "import matplotlib.pyplot as plt\n",
    "\n",
    "# make matplotlib figures appear inline in the notebook\n",
    "%matplotlib inline\n",
    "plt.rcParams['figure.figsize'] = (10.0, 8.0) # set default size of plots\n",
    "plt.rcParams['image.interpolation'] = 'nearest'\n",
    "plt.rcParams['image.cmap'] = 'gray'\n",
    "\n",
    "# Make the notebook automatically reload external python modules\n",
    "%load_ext autoreload\n",
    "%autoreload 2"
   ]
  },
  {
   "cell_type": "markdown",
   "metadata": {
    "nbgrader": {
     "grade": false,
     "grade_id": "cell-c6ac605270c2b091",
     "locked": true,
     "schema_version": 1,
     "solution": false
    }
   },
   "source": [
    "## Warmup - OOP in python\n",
    "\n",
    "Our desicion tree will be implemented using a dedicated python class. Take a minute and practice your object oriented skills. Create a tree with some nodes and make sure you understand how objects in python work."
   ]
  },
  {
   "cell_type": "code",
   "execution_count": 62,
   "metadata": {},
   "outputs": [],
   "source": [
    "class Node(object):\n",
    "    def __init__(self, data):\n",
    "        self.data = data\n",
    "        self.children = []\n",
    "\n",
    "    def add_child(self, node):\n",
    "        self.children.append(node)"
   ]
  },
  {
   "cell_type": "code",
   "execution_count": 162,
   "metadata": {},
   "outputs": [
    {
     "data": {
      "text/plain": [
       "[<__main__.Node at 0x1de06ada550>, <__main__.Node at 0x1de06adac10>]"
      ]
     },
     "execution_count": 162,
     "metadata": {},
     "output_type": "execute_result"
    }
   ],
   "source": [
    "n = Node(5)\n",
    "p = Node(6)\n",
    "q = Node(7)\n",
    "n.add_child(p)\n",
    "n.add_child(q)\n",
    "n.children"
   ]
  },
  {
   "cell_type": "markdown",
   "metadata": {
    "nbgrader": {
     "grade": false,
     "grade_id": "cell-2f1ceb251c649b62",
     "locked": true,
     "schema_version": 1,
     "solution": false
    }
   },
   "source": [
    "## Data preprocessing\n",
    "\n",
    "We will use the breast cancer dataset that is available as a part of sklearn. In this example, our dataset will be a single matrix with the **labels on the last column**. Notice that you are not allowed to use additional functions from sklearn."
   ]
  },
  {
   "cell_type": "code",
   "execution_count": 165,
   "metadata": {
    "nbgrader": {
     "grade": false,
     "grade_id": "cell-d79cb4542926ad3f",
     "locked": true,
     "schema_version": 1,
     "solution": false
    }
   },
   "outputs": [
    {
     "name": "stdout",
     "output_type": "stream",
     "text": [
      "Training dataset shape:  (426, 31)\n",
      "Testing dataset shape:  (143, 31)\n",
      "[[1.200e+01 2.823e+01 7.677e+01 4.425e+02 8.437e-02 6.450e-02 4.055e-02\n",
      "  1.945e-02 1.615e-01 6.104e-02 1.912e-01 1.705e+00 1.516e+00 1.386e+01\n",
      "  7.334e-03 2.589e-02 2.941e-02 9.166e-03 1.745e-02 4.302e-03 1.309e+01\n",
      "  3.788e+01 8.507e+01 5.237e+02 1.208e-01 1.856e-01 1.811e-01 7.116e-02\n",
      "  2.447e-01 8.194e-02 1.000e+00]\n",
      " [1.157e+01 1.904e+01 7.420e+01 4.097e+02 8.546e-02 7.722e-02 5.485e-02\n",
      "  1.428e-02 2.031e-01 6.267e-02 2.864e-01 1.440e+00 2.206e+00 2.030e+01\n",
      "  7.278e-03 2.047e-02 4.447e-02 8.799e-03 1.868e-02 3.339e-03 1.307e+01\n",
      "  2.698e+01 8.643e+01 5.205e+02 1.249e-01 1.937e-01 2.560e-01 6.664e-02\n",
      "  3.035e-01 8.284e-02 1.000e+00]\n",
      " [1.646e+01 2.011e+01 1.093e+02 8.329e+02 9.831e-02 1.556e-01 1.793e-01\n",
      "  8.866e-02 1.794e-01 6.323e-02 3.037e-01 1.284e+00 2.482e+00 3.159e+01\n",
      "  6.627e-03 4.094e-02 5.371e-02 1.813e-02 1.682e-02 4.584e-03 1.779e+01\n",
      "  2.845e+01 1.235e+02 9.812e+02 1.415e-01 4.667e-01 5.862e-01 2.035e-01\n",
      "  3.054e-01 9.519e-02 0.000e+00]\n",
      " [1.316e+01 2.054e+01 8.406e+01 5.387e+02 7.335e-02 5.275e-02 1.800e-02\n",
      "  1.256e-02 1.713e-01 5.888e-02 3.237e-01 1.473e+00 2.326e+00 2.607e+01\n",
      "  7.802e-03 2.052e-02 1.341e-02 5.564e-03 2.086e-02 2.701e-03 1.450e+01\n",
      "  2.846e+01 9.529e+01 6.483e+02 1.118e-01 1.646e-01 7.698e-02 4.195e-02\n",
      "  2.687e-01 7.429e-02 1.000e+00]]\n"
     ]
    }
   ],
   "source": [
    "from sklearn import datasets\n",
    "from sklearn.model_selection import train_test_split\n",
    "\n",
    "# load dataset\n",
    "X, y = datasets.load_breast_cancer(return_X_y = True)\n",
    "X = np.column_stack([X,y]) # the last column holds the labels\n",
    "# split dataset\n",
    "X_train, X_test = train_test_split(X, random_state=99)\n",
    "\n",
    "print(\"Training dataset shape: \", X_train.shape)\n",
    "print(\"Testing dataset shape: \", X_test.shape)\n",
    "\n",
    "print(X_train[0:4])"
   ]
  },
  {
   "cell_type": "markdown",
   "metadata": {
    "nbgrader": {
     "grade": false,
     "grade_id": "cell-fd7b0191f3f1e897",
     "locked": true,
     "schema_version": 1,
     "solution": false
    }
   },
   "source": [
    "## Impurity Measures (10 points)\n",
    "\n",
    "Impurity is a measure of how often a randomly chosen element from the set would be incorrectly labeled if it was randomly labeled according to the distribution of labels in the subset. Implement the functions `calc_gini` (5 points) and `calc_entropy` (5 points). You are encouraged to test your implementation."
   ]
  },
  {
   "cell_type": "code",
   "execution_count": 65,
   "metadata": {},
   "outputs": [],
   "source": [
    "def calc_gini(data):\n",
    "    \"\"\"\n",
    "    Calculate gini impurity measure of a dataset.\n",
    " \n",
    "    Input:\n",
    "    - data: any dataset where the last column holds the labels.\n",
    " \n",
    "    Returns the gini impurity.    \n",
    "    \"\"\"\n",
    "    gini = 0\n",
    "    ###########################################################################\n",
    "    # TODO: Implement the function.                                           #\n",
    "    ###########################################################################\n",
    "    \n",
    "    total = data.shape[0]\n",
    "    classes = {}\n",
    "    for row in data:\n",
    "        label = row[-1]\n",
    "        if label not in classes:\n",
    "            classes[label] = 0\n",
    "        classes[label]+=1\n",
    "    \n",
    "    #num_classes = len(np.unique(data[:-1])) #counts number of classes\n",
    "    gini = 1\n",
    "    for cl in classes:\n",
    "        #prob = data[,-1][cl]/total\n",
    "        prob = classes[cl]/total\n",
    "        gini -=prob**2\n",
    "    \n",
    "        \n",
    "    ###########################################################################\n",
    "    #                             END OF YOUR CODE                            #\n",
    "    ###########################################################################\n",
    "    return gini\n",
    "    "
   ]
  },
  {
   "cell_type": "code",
   "execution_count": 106,
   "metadata": {},
   "outputs": [
    {
     "name": "stdout",
     "output_type": "stream",
     "text": [
      "y\n",
      "yes\n"
     ]
    }
   ],
   "source": [
    "a = np.array([[1,2,6],[4,5,6],[7,8,6],[2,2,6]])\n",
    "if (a[:,-1] == a[:,-1][0]).all():\n",
    "       print(\"y\")\n",
    "else:\n",
    "       print(\"n\")\n",
    "b = np.array([[1,2]])\n",
    "b\n",
    "if b.all():\n",
    "    print(\"yes\")\n",
    "else:\n",
    "    print(\"no\")"
   ]
  },
  {
   "cell_type": "code",
   "execution_count": 66,
   "metadata": {},
   "outputs": [],
   "source": [
    "def calc_entropy(data):\n",
    "    \"\"\"\n",
    "    Calculate the entropy of a dataset.\n",
    "\n",
    "    Input:\n",
    "    - data: any dataset where the last column holds the labels.\n",
    "\n",
    "    Returns the entropy of the dataset.    \n",
    "    \"\"\"\n",
    "    entropy = 0.0\n",
    "    ###########################################################################\n",
    "    # TODO: Implement the function.                                           #\n",
    "    ###########################################################################\n",
    "    \n",
    "    \n",
    "    \n",
    "    ###########################################################################\n",
    "    #                             END OF YOUR CODE                            #\n",
    "    ###########################################################################\n",
    "    return entropy\n"
   ]
  },
  {
   "cell_type": "markdown",
   "metadata": {},
   "source": [
    "## Building a Decision Tree (50 points)\n",
    "\n",
    "Use a Python class to construct the decision tree. Your class should support the following functionality:\n",
    "\n",
    "1. Initiating a node for a decision tree. You will need to use several class methods and class attributes and you are free to use them as you see fit. We recommend that every node will hold the **feature** and **value** used for the split and the **children** of that node. In addition, it might be a good idea to store the **prediction** in that node, the **height** of the tree for that node and whether or not that node is a **leaf** in the tree.\n",
    "2. Your code should support both Gini and Entropy as impurity measures. \n",
    "3. The provided data includes continuous data. For this exercise, create at most a **single split** for each node of the tree (your tree will be binary). Determine the threshold for splitting by checking all possible features and the values available for splitting. When considering the values, take the average of each consecutive pair. For example, for the values [1,2,3,4,5] you should test possible splits on the values [1.5, 2.5, 3.5, 4.5]. \n",
    "5. After you complete building the class for a decision node in the tree, complete the function `build_tree`. This function takes as input the training dataset and the impurity measure. Then, it initializes a root for the decision tree and constructs the tree according to the procedure you saw in class.\n",
    "1. Once you are finished, construct two trees: one with Gini as an impurity measure and the other using Entropy."
   ]
  },
  {
   "cell_type": "code",
   "execution_count": 139,
   "metadata": {},
   "outputs": [],
   "source": [
    "class DecisionNode:\n",
    "    '''\n",
    "    This class will hold everyhing you need to construct a node in a DT. You are required to \n",
    "    support basic functionality as previously described. It is highly recommended that you  \n",
    "    first read and understand the entire exercises before diving into this class.\n",
    "    You are allowed to change the structure of this class as you see fit.\n",
    "    '''\n",
    " \n",
    "    def __init__(self, data,height):\n",
    "        # you should take more arguments as inputs when initiating a new node\n",
    "        self.data = data\n",
    "        self.children = []\n",
    "        self.height = height\n",
    "        self.leaf = True\n",
    "   \n",
    "    def set_feature(self, feature, value):\n",
    "        self.feature = feature\n",
    "        self.value = value\n",
    "        \n",
    "    def set_pred(self, prediction):\n",
    "        self.prediction = prediction\n",
    "        \n",
    "    def add_child(self, node):\n",
    "        self.children.append(node)\n",
    "        self.leaf = False\n",
    "        \n",
    "        \n",
    "    def check_split(self, feature, value):\n",
    "        # this function divides the data according to a specific feature and value\n",
    "        # you should use this function while testing for the optimal split\n",
    "        left_data = self.data[feature <= value]\n",
    "        right_data = self.data[feature > value]\n",
    "        \n",
    "        return left_data, right_data\n",
    "    \n",
    "    def split(self, impurity_measure):\n",
    "        # this function goves over all possible features and values and finds\n",
    "        # the optimal split according to the impurity measure. Note: you can\n",
    "        # send a function as an argument\n",
    "        best_impurity_score = 0\n",
    "        best_feature = 0\n",
    "        best_value  = 0 \n",
    "        total,num_features = self.data.shape \n",
    "        for feature,idx in zip(self.data.transpose(), range(0,num_features)):\n",
    "            values = sorted(np.unique(feature))\n",
    "            avg_values = [(a+b)/2 for a,b in zip(values, values[1:])]\n",
    "            for value in avg_values:\n",
    "                left_data, right_data = self.check_split(feature, value)\n",
    "                gini_gain = impurity_measure(self.data) -  (impurity_measure(left_data) - impurity_measure(right_data))/total\n",
    "                if (gini_gain > best_impurity_score):\n",
    "                   best_impurity_score = gini_gain\n",
    "                   best_feature = idx\n",
    "                   best_value  = value \n",
    "        return best_feature, best_value, best_impurity_score\n",
    "        \n",
    "            "
   ]
  },
  {
   "cell_type": "code",
   "execution_count": 92,
   "metadata": {},
   "outputs": [
    {
     "name": "stdout",
     "output_type": "stream",
     "text": [
      "1\n",
      "2\n"
     ]
    }
   ],
   "source": [
    "children = []\n",
    "children.append(1)\n",
    "children.append(2)\n",
    "#children[1]\n",
    "#children.pop(0)\n",
    "\n",
    "while children:\n",
    "    print(children.pop(0))"
   ]
  },
  {
   "cell_type": "code",
   "execution_count": 161,
   "metadata": {},
   "outputs": [],
   "source": [
    "def build_tree(data, impurity):\n",
    "    \"\"\"\n",
    "    Build a tree using the given impurity measure and training dataset. \n",
    "    You are required to fully grow the tree until all leaves are pure. \n",
    " \n",
    "    Input:\n",
    "    - data: the training dataset.\n",
    "    - impurity: the chosen impurity measure. Notice that you can send a function\n",
    "                as an argument in python.\n",
    " \n",
    "    Output: the root node of the tree.\n",
    "    \"\"\"\n",
    "    root = None\n",
    "    ###########################################################################\n",
    "    # TODO: Implement the function.                                           #\n",
    "    ###########################################################################\n",
    "     \n",
    "    height = 0\n",
    "    q = []\n",
    "    #create root node with all samples:\n",
    "    root = DecisionNode( data,height)\n",
    "    q.append(root)\n",
    "    while q:\n",
    "        #get next node\n",
    "        node = q.pop(0)\n",
    "        #if training example is perfectly classified\n",
    "        #print(node.data)\n",
    "        if (node.data[:,-1] == node.data[:,-1][0]).all():\n",
    "            node.set_pred(node.data[:,-1][0])\n",
    "        else:\n",
    "            best_feature, best_value ,gini_gain= node.split( impurity)\n",
    "            node.set_feature(best_feature,best_value)\n",
    "            left_data, right_data = node.check_split(best_feature,best_value)\n",
    "            #print(\"left_data\")\n",
    "            #print(left_data)\n",
    "            #print(\"right_data\")\n",
    "            #print(right_data)\n",
    "            if left_data.size != 0:\n",
    "                left_node = DecisionNode( left_data,node.height+1)\n",
    "                node.add_child(left_node)\n",
    "                q.append(left_node)\n",
    "            if right_data.size != 0:\n",
    "                right_node = DecisionNode( right_data,node.height+1)\n",
    "                node.add_child(right_node)\n",
    "                q.append(right_node)\n",
    "    \n",
    "    \n",
    "    ###########################################################################\n",
    "    #                             END OF YOUR CODE                            #\n",
    "    ###########################################################################\n",
    "    return root\n"
   ]
  },
  {
   "cell_type": "code",
   "execution_count": 173,
   "metadata": {},
   "outputs": [],
   "source": [
    "# python support passing a function as arguments to another function.\n",
    "tree_gini = build_tree(data=X_train[0:20,], impurity=calc_gini) \n",
    "tree_entropy = build_tree(data=X_train[0:20,], impurity=calc_entropy)\n"
   ]
  },
  {
   "cell_type": "markdown",
   "metadata": {},
   "source": [
    "## Tree evaluation (10 points)\n",
    "\n",
    "Complete the functions `predict` and `calc_accuracy`.\n",
    "\n",
    "After building both trees using the training set (using Gini and Entropy as impurity measures), you should calculate the accuracy on the test set and print the measure that gave you the best test accuracy. For the rest of the exercise, use that impurity measure. (10 points)"
   ]
  },
  {
   "cell_type": "code",
   "execution_count": 158,
   "metadata": {},
   "outputs": [],
   "source": [
    "def predict(node, instance):\n",
    "    \"\"\"\n",
    "    Predict a given instance using the decision tree\n",
    " \n",
    "    Input:\n",
    "    - root: the root of the decision tree.\n",
    "    - instance: an row vector from the dataset. \n",
    " \n",
    "    Output: the prediction of the instance.\n",
    "    \"\"\"\n",
    "    pred = None\n",
    "    ###########################################################################\n",
    "    # TODO: Implement the function.                                           #\n",
    "    ###########################################################################\n",
    "    if (node.leaf):\n",
    "        pred = node.prediction\n",
    "    else:\n",
    "        feature = node.feature\n",
    "        value = node.value\n",
    "        print(\"feature\")\n",
    "        print(feature)\n",
    "        print(\"value\")\n",
    "        print(value)\n",
    "        if instance[feature] > value:\n",
    "            pred = predict(node.children[1],instance) #right sub tree\n",
    "        else:\n",
    "            pred = predict(node.children[0],instance) #left sub tree\n",
    "            \n",
    "    \n",
    "    \n",
    "    ###########################################################################\n",
    "    #                             END OF YOUR CODE                            #\n",
    "    ###########################################################################\n",
    "    return pred"
   ]
  },
  {
   "cell_type": "code",
   "execution_count": 159,
   "metadata": {},
   "outputs": [],
   "source": [
    "def calc_accuracy(node, dataset):\n",
    "    \"\"\"\n",
    "    Predict a given dataset using the decision tree\n",
    " \n",
    "    Input:\n",
    "    - node: a node in the decision tree.\n",
    "    - dataset: the dataset on which the accuracy is evaluated\n",
    " \n",
    "    Output: the accuracy of the decision tree on the given dataset (%).\n",
    "    \"\"\"\n",
    "    accuracy = 0 #TF+TN/TOTAL\n",
    "    \n",
    "    ###########################################################################\n",
    "    # TODO: Implement the function.                                           #\n",
    "    ###########################################################################\n",
    "    for instance in dataset:\n",
    "        pred = predict(node, instance)\n",
    "        if pred == instance[-1]:\n",
    "            accuracy +=1\n",
    "            \n",
    "    accuracy = accuracy/dataset.shape[1]\n",
    "    \n",
    "    \n",
    "    ###########################################################################\n",
    "    #                             END OF YOUR CODE                            #\n",
    "    ###########################################################################\n",
    "    return accuracy"
   ]
  },
  {
   "cell_type": "code",
   "execution_count": 160,
   "metadata": {},
   "outputs": [
    {
     "name": "stdout",
     "output_type": "stream",
     "text": [
      "feature\n",
      "0\n",
      "value\n",
      "10.805\n"
     ]
    },
    {
     "ename": "ValueError",
     "evalue": "The truth value of an array with more than one element is ambiguous. Use a.any() or a.all()",
     "output_type": "error",
     "traceback": [
      "\u001b[1;31m---------------------------------------------------------------------------\u001b[0m",
      "\u001b[1;31mValueError\u001b[0m                                Traceback (most recent call last)",
      "\u001b[1;32m<ipython-input-160-8921f941292e>\u001b[0m in \u001b[0;36m<module>\u001b[1;34m\u001b[0m\n\u001b[1;32m----> 1\u001b[1;33m \u001b[0mpred\u001b[0m \u001b[1;33m=\u001b[0m \u001b[0mpredict\u001b[0m\u001b[1;33m(\u001b[0m\u001b[0mtree_gini\u001b[0m\u001b[1;33m,\u001b[0m \u001b[0mX_train\u001b[0m\u001b[1;33m)\u001b[0m\u001b[1;33m\u001b[0m\u001b[1;33m\u001b[0m\u001b[0m\n\u001b[0m\u001b[0;32m      2\u001b[0m \u001b[0macc\u001b[0m \u001b[1;33m=\u001b[0m \u001b[0mcalc_accuracy\u001b[0m\u001b[1;33m(\u001b[0m\u001b[0mtree_gini\u001b[0m\u001b[1;33m,\u001b[0m \u001b[0mX_train\u001b[0m\u001b[1;33m)\u001b[0m\u001b[1;33m\u001b[0m\u001b[1;33m\u001b[0m\u001b[0m\n\u001b[0;32m      3\u001b[0m \u001b[0mprint\u001b[0m\u001b[1;33m(\u001b[0m\u001b[0mpred\u001b[0m\u001b[1;33m)\u001b[0m\u001b[1;33m\u001b[0m\u001b[1;33m\u001b[0m\u001b[0m\n\u001b[0;32m      4\u001b[0m \u001b[0mprint\u001b[0m\u001b[1;33m(\u001b[0m\u001b[0macc\u001b[0m\u001b[1;33m)\u001b[0m\u001b[1;33m\u001b[0m\u001b[1;33m\u001b[0m\u001b[0m\n",
      "\u001b[1;32m<ipython-input-158-071abe2dc4d6>\u001b[0m in \u001b[0;36mpredict\u001b[1;34m(node, instance)\u001b[0m\n\u001b[0;32m     22\u001b[0m         \u001b[0mprint\u001b[0m\u001b[1;33m(\u001b[0m\u001b[1;34m\"value\"\u001b[0m\u001b[1;33m)\u001b[0m\u001b[1;33m\u001b[0m\u001b[1;33m\u001b[0m\u001b[0m\n\u001b[0;32m     23\u001b[0m         \u001b[0mprint\u001b[0m\u001b[1;33m(\u001b[0m\u001b[0mvalue\u001b[0m\u001b[1;33m)\u001b[0m\u001b[1;33m\u001b[0m\u001b[1;33m\u001b[0m\u001b[0m\n\u001b[1;32m---> 24\u001b[1;33m         \u001b[1;32mif\u001b[0m \u001b[0minstance\u001b[0m\u001b[1;33m[\u001b[0m\u001b[0mfeature\u001b[0m\u001b[1;33m]\u001b[0m \u001b[1;33m>\u001b[0m \u001b[0mvalue\u001b[0m\u001b[1;33m:\u001b[0m\u001b[1;33m\u001b[0m\u001b[1;33m\u001b[0m\u001b[0m\n\u001b[0m\u001b[0;32m     25\u001b[0m             \u001b[0mpred\u001b[0m \u001b[1;33m=\u001b[0m \u001b[0mpredict\u001b[0m\u001b[1;33m(\u001b[0m\u001b[0mnode\u001b[0m\u001b[1;33m.\u001b[0m\u001b[0mchildren\u001b[0m\u001b[1;33m[\u001b[0m\u001b[1;36m1\u001b[0m\u001b[1;33m]\u001b[0m\u001b[1;33m,\u001b[0m\u001b[0minstance\u001b[0m\u001b[1;33m)\u001b[0m \u001b[1;31m#right sub tree\u001b[0m\u001b[1;33m\u001b[0m\u001b[1;33m\u001b[0m\u001b[0m\n\u001b[0;32m     26\u001b[0m         \u001b[1;32melse\u001b[0m\u001b[1;33m:\u001b[0m\u001b[1;33m\u001b[0m\u001b[1;33m\u001b[0m\u001b[0m\n",
      "\u001b[1;31mValueError\u001b[0m: The truth value of an array with more than one element is ambiguous. Use a.any() or a.all()"
     ]
    }
   ],
   "source": [
    "pred = predict(tree_gini, X_train)\n",
    "acc = calc_accuracy(tree_gini, X_train)\n",
    "print(pred)\n",
    "print(acc)"
   ]
  },
  {
   "cell_type": "markdown",
   "metadata": {},
   "source": [
    "## Print the tree (10 points)\n",
    "\n",
    "Complete the function `print_tree`. Your code should do something like this (10 points):\n",
    "```\n",
    "[X0 <= 1],\n",
    "  [X1 <= 2]\n",
    "    [X2 <= 3], \n",
    "       leaf: [{1.0: 10}]\n",
    "       leaf: [{0.0: 10}]\n",
    "    [X4 <= 5], \n",
    "       leaf: [{1.0: 5}]\n",
    "       leaf: [{0.0: 10}]\n",
    "   leaf: [{1.0: 50}]\n",
    "```"
   ]
  },
  {
   "cell_type": "code",
   "execution_count": null,
   "metadata": {},
   "outputs": [],
   "source": [
    "def print_tree(node):\n",
    "    \"\"\"\n",
    "    Prints the tree similar to the example above.\n",
    "    As long as the print is clear, any printing scheme will be fine\n",
    "    \n",
    "    Input:\n",
    "    - node: a node in the decision tree.\n",
    " \n",
    "    Output: This function has no return value.\n",
    "    \"\"\"\n",
    "    \n",
    "    ###########################################################################\n",
    "    # TODO: Implement the function.                                           #\n",
    "    ###########################################################################\n",
    "    x= 0\n",
    "    if (node.leaf):\n",
    "        print(\"leaf: [{1.0:{num}}]\".format(num = x))\n",
    "        print(\"leaf: [{0.0:{num}}]\".format(num = x))\n",
    "    else:\n",
    "        #print node value:\n",
    "        print(\"[ {feature} <= {value}]\".format(feature = node.feature, value = node.value))\n",
    "        #print sub trees:\n",
    "        for child in node tree:\n",
    "            print_tree(child)\n",
    "    \n",
    "    \n",
    "    \n",
    "    ###########################################################################\n",
    "    #                             END OF YOUR CODE                            #\n",
    "    ###########################################################################\n",
    "    return\n",
    "  print_tree(tree_gini)  \n"
   ]
  },
  {
   "cell_type": "markdown",
   "metadata": {},
   "source": [
    "## Post pruning (20 points)\n",
    "\n",
    "Construct a decision tree and perform post pruning: For each leaf in the tree, calculate the test accuracy of the tree assuming no split occurred on the parent of that leaf and find the best such parent (in the sense that not splitting on that parent results in the best testing accuracy among possible parents). Make that parent into a leaf and repeat this process until you are left with the root. On a single plot, draw the training and testing accuracy as a function of the number of internal nodes in the tree. Explain and visualize the results and print your tree (20 points)."
   ]
  },
  {
   "cell_type": "code",
   "execution_count": null,
   "metadata": {},
   "outputs": [],
   "source": [
    "###########################################################################\n",
    "# TODO: Implement the function.                                           #\n",
    "###########################################################################\n",
    "def prune(node, dataset):\n",
    "    if node.leaf\n",
    "    calc_accuracy(node, dataset):\n",
    "\n",
    "\n",
    "###########################################################################\n",
    "#                             END OF YOUR CODE                            #\n",
    "###########################################################################"
   ]
  },
  {
   "cell_type": "code",
   "execution_count": null,
   "metadata": {},
   "outputs": [],
   "source": []
  }
 ],
 "metadata": {
  "celltoolbar": "Create Assignment",
  "kernelspec": {
   "display_name": "Python 3",
   "language": "python",
   "name": "python3"
  },
  "language_info": {
   "codemirror_mode": {
    "name": "ipython",
    "version": 3
   },
   "file_extension": ".py",
   "mimetype": "text/x-python",
   "name": "python",
   "nbconvert_exporter": "python",
   "pygments_lexer": "ipython3",
   "version": "3.8.5"
  }
 },
 "nbformat": 4,
 "nbformat_minor": 2
}
